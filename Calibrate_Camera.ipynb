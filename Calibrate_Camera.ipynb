{
 "cells": [
  {
   "cell_type": "code",
   "execution_count": 1,
   "metadata": {},
   "outputs": [],
   "source": [
    "import matplotlib.pyplot as plt\n",
    "import numpy as np\n",
    "import cv2\n",
    "from glob import glob\n",
    "import pickle\n",
    "%matplotlib inline"
   ]
  },
  {
   "cell_type": "code",
   "execution_count": null,
   "metadata": {},
   "outputs": [],
   "source": [
    "nx = 9\n",
    "ny = 6\n",
    "\n",
    "images = glob('camera_cal/*.jpg')\n",
    "\n",
    "# Create objectpoints, imagepoints\n",
    "objpoints = []\n",
    "imgpoints = []\n",
    "\n",
    "objp = np.zeros((nx * ny, 3), np.float32)\n",
    "objp[:,:2] = np.mgrid[0: nx, 0: ny].T.reshape(-1, 2)\n",
    "\n",
    "\n",
    "plt.figure(figsize = (20, 5))\n",
    "plt.title('calibration')\n",
    "\n",
    "i=0\n",
    "\n",
    "for img in images:\n",
    "\n",
    "    plt.subplot(4, 5, i+1)\n",
    "\n",
    "    img = plt.imread(img)\n",
    "\n",
    "    gray_img = cv2.cvtColor(img,cv2.COLOR_BGR2GRAY)\n",
    "\n",
    "    # Find Conners\n",
    "    ret, corners = cv2.findChessboardCorners(gray_img,(nx,ny),None)\n",
    "    i += 1\n",
    "    if ret == True:\n",
    "        #Draw Point \n",
    "        cv2.drawChessboardCorners(img,(nx,ny),corners,ret)\n",
    "\n",
    "        objpoints.append(objp)\n",
    "        imgpoints.append(corners)\n",
    "        plt.imshow(img)\n",
    "    else:\n",
    "        plt.imshow(img)\n",
    "plt.show()"
   ]
  },
  {
   "cell_type": "code",
   "execution_count": null,
   "metadata": {},
   "outputs": [],
   "source": [
    "# Calibrate_Camera\n",
    "img = cv2.imread('camera_cal/calibration1.jpg')\n",
    "img_size = (img.shape[1],img.shape[0])\n",
    "ret, mtx, dist, rvecs, tvecs = cv2.calibrateCamera(objpoints, imgpoints, img_size, None, None)"
   ]
  },
  {
   "cell_type": "code",
   "execution_count": null,
   "metadata": {},
   "outputs": [],
   "source": [
    "# Save mtx, dist\n",
    "data = {'mtx': mtx, 'dist': dist}\n",
    "pickle.dump(data, open(\"camera_calibration.p\", \"wb\"))"
   ]
  },
  {
   "cell_type": "code",
   "execution_count": null,
   "metadata": {},
   "outputs": [],
   "source": [
    "# Undistort example calibration image\n",
    "img = plt.imread('camera_cal/calibration1.jpg')\n",
    "dst = cv2.undistort(img, mtx, dist, None, mtx)\n",
    "plt.imshow(dst)"
   ]
  },
  {
   "cell_type": "code",
   "execution_count": null,
   "metadata": {},
   "outputs": [],
   "source": []
  }
 ],
 "metadata": {
  "kernelspec": {
   "display_name": "Python 3",
   "language": "python",
   "name": "python3"
  },
  "language_info": {
   "codemirror_mode": {
    "name": "ipython",
    "version": 3
   },
   "file_extension": ".py",
   "mimetype": "text/x-python",
   "name": "python",
   "nbconvert_exporter": "python",
   "pygments_lexer": "ipython3",
   "version": "3.7.7"
  }
 },
 "nbformat": 4,
 "nbformat_minor": 2
}
